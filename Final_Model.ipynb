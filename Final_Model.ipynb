{
  "nbformat": 4,
  "nbformat_minor": 0,
  "metadata": {
    "colab": {
      "name": "Final_Model.ipynb",
      "provenance": [],
      "collapsed_sections": [],
      "toc_visible": true
    },
    "kernelspec": {
      "name": "python3",
      "display_name": "Python 3"
    }
  },
  "cells": [
    {
      "cell_type": "markdown",
      "metadata": {
        "id": "u4YiFOdEKRuh",
        "colab_type": "text"
      },
      "source": [
        "#Import Data\n"
      ]
    },
    {
      "cell_type": "code",
      "metadata": {
        "id": "_7DvDK-Dbh5w",
        "colab_type": "code",
        "colab": {
          "resources": {
            "http://localhost:8080/nbextensions/google.colab/files.js": {
              "data": "Ly8gQ29weXJpZ2h0IDIwMTcgR29vZ2xlIExMQwovLwovLyBMaWNlbnNlZCB1bmRlciB0aGUgQXBhY2hlIExpY2Vuc2UsIFZlcnNpb24gMi4wICh0aGUgIkxpY2Vuc2UiKTsKLy8geW91IG1heSBub3QgdXNlIHRoaXMgZmlsZSBleGNlcHQgaW4gY29tcGxpYW5jZSB3aXRoIHRoZSBMaWNlbnNlLgovLyBZb3UgbWF5IG9idGFpbiBhIGNvcHkgb2YgdGhlIExpY2Vuc2UgYXQKLy8KLy8gICAgICBodHRwOi8vd3d3LmFwYWNoZS5vcmcvbGljZW5zZXMvTElDRU5TRS0yLjAKLy8KLy8gVW5sZXNzIHJlcXVpcmVkIGJ5IGFwcGxpY2FibGUgbGF3IG9yIGFncmVlZCB0byBpbiB3cml0aW5nLCBzb2Z0d2FyZQovLyBkaXN0cmlidXRlZCB1bmRlciB0aGUgTGljZW5zZSBpcyBkaXN0cmlidXRlZCBvbiBhbiAiQVMgSVMiIEJBU0lTLAovLyBXSVRIT1VUIFdBUlJBTlRJRVMgT1IgQ09ORElUSU9OUyBPRiBBTlkgS0lORCwgZWl0aGVyIGV4cHJlc3Mgb3IgaW1wbGllZC4KLy8gU2VlIHRoZSBMaWNlbnNlIGZvciB0aGUgc3BlY2lmaWMgbGFuZ3VhZ2UgZ292ZXJuaW5nIHBlcm1pc3Npb25zIGFuZAovLyBsaW1pdGF0aW9ucyB1bmRlciB0aGUgTGljZW5zZS4KCi8qKgogKiBAZmlsZW92ZXJ2aWV3IEhlbHBlcnMgZm9yIGdvb2dsZS5jb2xhYiBQeXRob24gbW9kdWxlLgogKi8KKGZ1bmN0aW9uKHNjb3BlKSB7CmZ1bmN0aW9uIHNwYW4odGV4dCwgc3R5bGVBdHRyaWJ1dGVzID0ge30pIHsKICBjb25zdCBlbGVtZW50ID0gZG9jdW1lbnQuY3JlYXRlRWxlbWVudCgnc3BhbicpOwogIGVsZW1lbnQudGV4dENvbnRlbnQgPSB0ZXh0OwogIGZvciAoY29uc3Qga2V5IG9mIE9iamVjdC5rZXlzKHN0eWxlQXR0cmlidXRlcykpIHsKICAgIGVsZW1lbnQuc3R5bGVba2V5XSA9IHN0eWxlQXR0cmlidXRlc1trZXldOwogIH0KICByZXR1cm4gZWxlbWVudDsKfQoKLy8gTWF4IG51bWJlciBvZiBieXRlcyB3aGljaCB3aWxsIGJlIHVwbG9hZGVkIGF0IGEgdGltZS4KY29uc3QgTUFYX1BBWUxPQURfU0laRSA9IDEwMCAqIDEwMjQ7Ci8vIE1heCBhbW91bnQgb2YgdGltZSB0byBibG9jayB3YWl0aW5nIGZvciB0aGUgdXNlci4KY29uc3QgRklMRV9DSEFOR0VfVElNRU9VVF9NUyA9IDMwICogMTAwMDsKCmZ1bmN0aW9uIF91cGxvYWRGaWxlcyhpbnB1dElkLCBvdXRwdXRJZCkgewogIGNvbnN0IHN0ZXBzID0gdXBsb2FkRmlsZXNTdGVwKGlucHV0SWQsIG91dHB1dElkKTsKICBjb25zdCBvdXRwdXRFbGVtZW50ID0gZG9jdW1lbnQuZ2V0RWxlbWVudEJ5SWQob3V0cHV0SWQpOwogIC8vIENhY2hlIHN0ZXBzIG9uIHRoZSBvdXRwdXRFbGVtZW50IHRvIG1ha2UgaXQgYXZhaWxhYmxlIGZvciB0aGUgbmV4dCBjYWxsCiAgLy8gdG8gdXBsb2FkRmlsZXNDb250aW51ZSBmcm9tIFB5dGhvbi4KICBvdXRwdXRFbGVtZW50LnN0ZXBzID0gc3RlcHM7CgogIHJldHVybiBfdXBsb2FkRmlsZXNDb250aW51ZShvdXRwdXRJZCk7Cn0KCi8vIFRoaXMgaXMgcm91Z2hseSBhbiBhc3luYyBnZW5lcmF0b3IgKG5vdCBzdXBwb3J0ZWQgaW4gdGhlIGJyb3dzZXIgeWV0KSwKLy8gd2hlcmUgdGhlcmUgYXJlIG11bHRpcGxlIGFzeW5jaHJvbm91cyBzdGVwcyBhbmQgdGhlIFB5dGhvbiBzaWRlIGlzIGdvaW5nCi8vIHRvIHBvbGwgZm9yIGNvbXBsZXRpb24gb2YgZWFjaCBzdGVwLgovLyBUaGlzIHVzZXMgYSBQcm9taXNlIHRvIGJsb2NrIHRoZSBweXRob24gc2lkZSBvbiBjb21wbGV0aW9uIG9mIGVhY2ggc3RlcCwKLy8gdGhlbiBwYXNzZXMgdGhlIHJlc3VsdCBvZiB0aGUgcHJldmlvdXMgc3RlcCBhcyB0aGUgaW5wdXQgdG8gdGhlIG5leHQgc3RlcC4KZnVuY3Rpb24gX3VwbG9hZEZpbGVzQ29udGludWUob3V0cHV0SWQpIHsKICBjb25zdCBvdXRwdXRFbGVtZW50ID0gZG9jdW1lbnQuZ2V0RWxlbWVudEJ5SWQob3V0cHV0SWQpOwogIGNvbnN0IHN0ZXBzID0gb3V0cHV0RWxlbWVudC5zdGVwczsKCiAgY29uc3QgbmV4dCA9IHN0ZXBzLm5leHQob3V0cHV0RWxlbWVudC5sYXN0UHJvbWlzZVZhbHVlKTsKICByZXR1cm4gUHJvbWlzZS5yZXNvbHZlKG5leHQudmFsdWUucHJvbWlzZSkudGhlbigodmFsdWUpID0+IHsKICAgIC8vIENhY2hlIHRoZSBsYXN0IHByb21pc2UgdmFsdWUgdG8gbWFrZSBpdCBhdmFpbGFibGUgdG8gdGhlIG5leHQKICAgIC8vIHN0ZXAgb2YgdGhlIGdlbmVyYXRvci4KICAgIG91dHB1dEVsZW1lbnQubGFzdFByb21pc2VWYWx1ZSA9IHZhbHVlOwogICAgcmV0dXJuIG5leHQudmFsdWUucmVzcG9uc2U7CiAgfSk7Cn0KCi8qKgogKiBHZW5lcmF0b3IgZnVuY3Rpb24gd2hpY2ggaXMgY2FsbGVkIGJldHdlZW4gZWFjaCBhc3luYyBzdGVwIG9mIHRoZSB1cGxvYWQKICogcHJvY2Vzcy4KICogQHBhcmFtIHtzdHJpbmd9IGlucHV0SWQgRWxlbWVudCBJRCBvZiB0aGUgaW5wdXQgZmlsZSBwaWNrZXIgZWxlbWVudC4KICogQHBhcmFtIHtzdHJpbmd9IG91dHB1dElkIEVsZW1lbnQgSUQgb2YgdGhlIG91dHB1dCBkaXNwbGF5LgogKiBAcmV0dXJuIHshSXRlcmFibGU8IU9iamVjdD59IEl0ZXJhYmxlIG9mIG5leHQgc3RlcHMuCiAqLwpmdW5jdGlvbiogdXBsb2FkRmlsZXNTdGVwKGlucHV0SWQsIG91dHB1dElkKSB7CiAgY29uc3QgaW5wdXRFbGVtZW50ID0gZG9jdW1lbnQuZ2V0RWxlbWVudEJ5SWQoaW5wdXRJZCk7CiAgaW5wdXRFbGVtZW50LmRpc2FibGVkID0gZmFsc2U7CgogIGNvbnN0IG91dHB1dEVsZW1lbnQgPSBkb2N1bWVudC5nZXRFbGVtZW50QnlJZChvdXRwdXRJZCk7CiAgb3V0cHV0RWxlbWVudC5pbm5lckhUTUwgPSAnJzsKCiAgY29uc3QgcGlja2VkUHJvbWlzZSA9IG5ldyBQcm9taXNlKChyZXNvbHZlKSA9PiB7CiAgICBpbnB1dEVsZW1lbnQuYWRkRXZlbnRMaXN0ZW5lcignY2hhbmdlJywgKGUpID0+IHsKICAgICAgcmVzb2x2ZShlLnRhcmdldC5maWxlcyk7CiAgICB9KTsKICB9KTsKCiAgY29uc3QgY2FuY2VsID0gZG9jdW1lbnQuY3JlYXRlRWxlbWVudCgnYnV0dG9uJyk7CiAgaW5wdXRFbGVtZW50LnBhcmVudEVsZW1lbnQuYXBwZW5kQ2hpbGQoY2FuY2VsKTsKICBjYW5jZWwudGV4dENvbnRlbnQgPSAnQ2FuY2VsIHVwbG9hZCc7CiAgY29uc3QgY2FuY2VsUHJvbWlzZSA9IG5ldyBQcm9taXNlKChyZXNvbHZlKSA9PiB7CiAgICBjYW5jZWwub25jbGljayA9ICgpID0+IHsKICAgICAgcmVzb2x2ZShudWxsKTsKICAgIH07CiAgfSk7CgogIC8vIENhbmNlbCB1cGxvYWQgaWYgdXNlciBoYXNuJ3QgcGlja2VkIGFueXRoaW5nIGluIHRpbWVvdXQuCiAgY29uc3QgdGltZW91dFByb21pc2UgPSBuZXcgUHJvbWlzZSgocmVzb2x2ZSkgPT4gewogICAgc2V0VGltZW91dCgoKSA9PiB7CiAgICAgIHJlc29sdmUobnVsbCk7CiAgICB9LCBGSUxFX0NIQU5HRV9USU1FT1VUX01TKTsKICB9KTsKCiAgLy8gV2FpdCBmb3IgdGhlIHVzZXIgdG8gcGljayB0aGUgZmlsZXMuCiAgY29uc3QgZmlsZXMgPSB5aWVsZCB7CiAgICBwcm9taXNlOiBQcm9taXNlLnJhY2UoW3BpY2tlZFByb21pc2UsIHRpbWVvdXRQcm9taXNlLCBjYW5jZWxQcm9taXNlXSksCiAgICByZXNwb25zZTogewogICAgICBhY3Rpb246ICdzdGFydGluZycsCiAgICB9CiAgfTsKCiAgaWYgKCFmaWxlcykgewogICAgcmV0dXJuIHsKICAgICAgcmVzcG9uc2U6IHsKICAgICAgICBhY3Rpb246ICdjb21wbGV0ZScsCiAgICAgIH0KICAgIH07CiAgfQoKICBjYW5jZWwucmVtb3ZlKCk7CgogIC8vIERpc2FibGUgdGhlIGlucHV0IGVsZW1lbnQgc2luY2UgZnVydGhlciBwaWNrcyBhcmUgbm90IGFsbG93ZWQuCiAgaW5wdXRFbGVtZW50LmRpc2FibGVkID0gdHJ1ZTsKCiAgZm9yIChjb25zdCBmaWxlIG9mIGZpbGVzKSB7CiAgICBjb25zdCBsaSA9IGRvY3VtZW50LmNyZWF0ZUVsZW1lbnQoJ2xpJyk7CiAgICBsaS5hcHBlbmQoc3BhbihmaWxlLm5hbWUsIHtmb250V2VpZ2h0OiAnYm9sZCd9KSk7CiAgICBsaS5hcHBlbmQoc3BhbigKICAgICAgICBgKCR7ZmlsZS50eXBlIHx8ICduL2EnfSkgLSAke2ZpbGUuc2l6ZX0gYnl0ZXMsIGAgKwogICAgICAgIGBsYXN0IG1vZGlmaWVkOiAkewogICAgICAgICAgICBmaWxlLmxhc3RNb2RpZmllZERhdGUgPyBmaWxlLmxhc3RNb2RpZmllZERhdGUudG9Mb2NhbGVEYXRlU3RyaW5nKCkgOgogICAgICAgICAgICAgICAgICAgICAgICAgICAgICAgICAgICAnbi9hJ30gLSBgKSk7CiAgICBjb25zdCBwZXJjZW50ID0gc3BhbignMCUgZG9uZScpOwogICAgbGkuYXBwZW5kQ2hpbGQocGVyY2VudCk7CgogICAgb3V0cHV0RWxlbWVudC5hcHBlbmRDaGlsZChsaSk7CgogICAgY29uc3QgZmlsZURhdGFQcm9taXNlID0gbmV3IFByb21pc2UoKHJlc29sdmUpID0+IHsKICAgICAgY29uc3QgcmVhZGVyID0gbmV3IEZpbGVSZWFkZXIoKTsKICAgICAgcmVhZGVyLm9ubG9hZCA9IChlKSA9PiB7CiAgICAgICAgcmVzb2x2ZShlLnRhcmdldC5yZXN1bHQpOwogICAgICB9OwogICAgICByZWFkZXIucmVhZEFzQXJyYXlCdWZmZXIoZmlsZSk7CiAgICB9KTsKICAgIC8vIFdhaXQgZm9yIHRoZSBkYXRhIHRvIGJlIHJlYWR5LgogICAgbGV0IGZpbGVEYXRhID0geWllbGQgewogICAgICBwcm9taXNlOiBmaWxlRGF0YVByb21pc2UsCiAgICAgIHJlc3BvbnNlOiB7CiAgICAgICAgYWN0aW9uOiAnY29udGludWUnLAogICAgICB9CiAgICB9OwoKICAgIC8vIFVzZSBhIGNodW5rZWQgc2VuZGluZyB0byBhdm9pZCBtZXNzYWdlIHNpemUgbGltaXRzLiBTZWUgYi82MjExNTY2MC4KICAgIGxldCBwb3NpdGlvbiA9IDA7CiAgICB3aGlsZSAocG9zaXRpb24gPCBmaWxlRGF0YS5ieXRlTGVuZ3RoKSB7CiAgICAgIGNvbnN0IGxlbmd0aCA9IE1hdGgubWluKGZpbGVEYXRhLmJ5dGVMZW5ndGggLSBwb3NpdGlvbiwgTUFYX1BBWUxPQURfU0laRSk7CiAgICAgIGNvbnN0IGNodW5rID0gbmV3IFVpbnQ4QXJyYXkoZmlsZURhdGEsIHBvc2l0aW9uLCBsZW5ndGgpOwogICAgICBwb3NpdGlvbiArPSBsZW5ndGg7CgogICAgICBjb25zdCBiYXNlNjQgPSBidG9hKFN0cmluZy5mcm9tQ2hhckNvZGUuYXBwbHkobnVsbCwgY2h1bmspKTsKICAgICAgeWllbGQgewogICAgICAgIHJlc3BvbnNlOiB7CiAgICAgICAgICBhY3Rpb246ICdhcHBlbmQnLAogICAgICAgICAgZmlsZTogZmlsZS5uYW1lLAogICAgICAgICAgZGF0YTogYmFzZTY0LAogICAgICAgIH0sCiAgICAgIH07CiAgICAgIHBlcmNlbnQudGV4dENvbnRlbnQgPQogICAgICAgICAgYCR7TWF0aC5yb3VuZCgocG9zaXRpb24gLyBmaWxlRGF0YS5ieXRlTGVuZ3RoKSAqIDEwMCl9JSBkb25lYDsKICAgIH0KICB9CgogIC8vIEFsbCBkb25lLgogIHlpZWxkIHsKICAgIHJlc3BvbnNlOiB7CiAgICAgIGFjdGlvbjogJ2NvbXBsZXRlJywKICAgIH0KICB9Owp9CgpzY29wZS5nb29nbGUgPSBzY29wZS5nb29nbGUgfHwge307CnNjb3BlLmdvb2dsZS5jb2xhYiA9IHNjb3BlLmdvb2dsZS5jb2xhYiB8fCB7fTsKc2NvcGUuZ29vZ2xlLmNvbGFiLl9maWxlcyA9IHsKICBfdXBsb2FkRmlsZXMsCiAgX3VwbG9hZEZpbGVzQ29udGludWUsCn07Cn0pKHNlbGYpOwo=",
              "ok": true,
              "headers": [
                [
                  "content-type",
                  "application/javascript"
                ]
              ],
              "status": 200,
              "status_text": ""
            }
          },
          "base_uri": "https://localhost:8080/",
          "height": 108
        },
        "outputId": "0ea83ec5-f304-4932-9408-1f7151a554a8"
      },
      "source": [
        "from google.colab import files\n",
        "uploaded = files.upload()"
      ],
      "execution_count": null,
      "outputs": [
        {
          "output_type": "display_data",
          "data": {
            "text/html": [
              "\n",
              "     <input type=\"file\" id=\"files-3cf0ad41-981c-45bd-a540-5a2baa7c0e9d\" name=\"files[]\" multiple disabled />\n",
              "     <output id=\"result-3cf0ad41-981c-45bd-a540-5a2baa7c0e9d\">\n",
              "      Upload widget is only available when the cell has been executed in the\n",
              "      current browser session. Please rerun this cell to enable.\n",
              "      </output>\n",
              "      <script src=\"/nbextensions/google.colab/files.js\"></script> "
            ],
            "text/plain": [
              "<IPython.core.display.HTML object>"
            ]
          },
          "metadata": {
            "tags": []
          }
        },
        {
          "output_type": "stream",
          "text": [
            "Saving road_data.csv to road_data (2).csv\n",
            "Saving Nolanville.csv to Nolanville (2).csv\n"
          ],
          "name": "stdout"
        }
      ]
    },
    {
      "cell_type": "code",
      "metadata": {
        "id": "RXlZJkg2FzIn",
        "colab_type": "code",
        "colab": {}
      },
      "source": [
        "import csv\n",
        "\n",
        "with open('road_data.csv', newline='') as csvfile:\n",
        "  train = list(csv.reader(csvfile))\n",
        "\n",
        "with open('Nolanville.csv', newline='') as csvfile:\n",
        "  nolanville = list(csv.reader(csvfile))\n"
      ],
      "execution_count": null,
      "outputs": []
    },
    {
      "cell_type": "markdown",
      "metadata": {
        "id": "pM2PbhLdKUtA",
        "colab_type": "text"
      },
      "source": [
        "#Parse Features into Lists"
      ]
    },
    {
      "cell_type": "code",
      "metadata": {
        "id": "ab9xI-19GNwH",
        "colab_type": "code",
        "colab": {
          "base_uri": "https://localhost:8080/",
          "height": 428
        },
        "outputId": "7a7e13e1-174b-4e84-c7d2-02688475cc2e"
      },
      "source": [
        "train_labels = train[0]\n",
        "train_city = []\n",
        "train_road_name = []\n",
        "train_sidewalks = []\n",
        "train_width = []\n",
        "train_dist_water = []\n",
        "train_material = []\n",
        "train_runoff_coeficient = []\n",
        "train_flood = []\n",
        "\n",
        "for i in range(1,len(train)):\n",
        "  train_city.append(train[i][0])\n",
        "  train_road_name.append(train[i][1])\n",
        "  train_sidewalks.append(int(train[i][2]))\n",
        "  train_width.append(int(train[i][3]))\n",
        "  train_dist_water.append(int(train[i][4]))\n",
        "  train_material.append(train[i][5])\n",
        "  train_runoff_coeficient.append(float(train[i][6]))\n",
        "  train_flood.append(int(train[i][7]))\n",
        "\n",
        "print(\"Training data: \")\n",
        "print(train_labels)\n",
        "print(train_city)\n",
        "print(train_road_name)\n",
        "print(train_sidewalks)\n",
        "print(train_width)\n",
        "print(train_dist_water)\n",
        "print(train_runoff_coeficient)\n",
        "print(train_material)\n",
        "print(train_flood)\n",
        "print(\"Number of data points: \" + str(len(train_flood)))\n",
        "print()\n",
        "\n",
        "nol_labels = nolanville[0]\n",
        "nol_city = []\n",
        "nol_road_name = []\n",
        "nol_sidewalks = []\n",
        "nol_width = []\n",
        "nol_dist_water = []\n",
        "nol_material = []\n",
        "nol_runoff_coeficient = []\n",
        "nol_flood = []\n",
        "\n",
        "for i in range(1,len(nolanville)):\n",
        "  nol_city.append(nolanville[i][0])\n",
        "  nol_road_name.append(nolanville[i][1])\n",
        "  nol_sidewalks.append(int(nolanville[i][2]))\n",
        "  nol_width.append(int(nolanville[i][3]))\n",
        "  nol_dist_water.append(int(nolanville[i][4]))\n",
        "  nol_material.append(nolanville[i][5])\n",
        "  nol_runoff_coeficient.append(float(nolanville[i][6]))\n",
        "  nol_flood.append(int(nolanville[i][7]))\n",
        "print(\"Nolanville test data: \")\n",
        "print(nol_labels)\n",
        "print(nol_city)\n",
        "print(nol_road_name)\n",
        "print(nol_sidewalks)\n",
        "print(nol_width)\n",
        "print(nol_dist_water)\n",
        "print(nol_runoff_coeficient)\n",
        "print(nol_material)\n",
        "print(nol_flood)\n",
        "print(\"Number of data points: \" + str(len(nol_flood)))\n"
      ],
      "execution_count": null,
      "outputs": [
        {
          "output_type": "stream",
          "text": [
            "Training data: \n",
            "['City/Town', 'Roads', 'Sidewalks', 'Road Width', 'Distance to Water', 'Material', 'Runoff Coefficient', 'Roads that flood']\n",
            "['Humble', 'Humble', 'Humble', 'Humble', 'Humble', 'Humble', 'Humble', 'Humble', 'Humble', 'Humble', 'Humble', 'Humble', 'Humble', 'Humble', 'Humble', 'Humble', 'Humble', 'Humble', 'Humble', 'Humble', 'Humble', 'Humble', 'Humble', 'Humble', 'Humble', 'Humble', 'Humble', 'Humble', 'Humble', 'Humble', 'Humble', 'Humble', 'Humble', 'Humble', 'Humble', 'Humble', 'Humble', 'Humble', 'Humble', 'Humble', 'Mission Bend', 'Mission Bend', 'Mission Bend', 'Mission Bend', 'Mission Bend', 'Mission Bend', 'Mission Bend', 'Mission Bend', 'Mission Bend', 'Mission Bend', 'Mission Bend', 'Mission Bend', 'Mission Bend', 'Mission Bend', 'Mission Bend', 'Mission Bend', 'Mission Bend', 'Mission Bend', 'Mission Bend', 'Mission Bend', 'Mission Bend', 'Mission Bend', 'Mission Bend', 'Mission Bend', 'Mission Bend', 'Mission Bend', 'Mission Bend', 'Mission Bend', 'Mission Bend', 'Mission Bend', 'Mission Bend', 'Mission Bend', 'Mission Bend', 'Mission Bend', 'Mission Bend', 'Mission Bend', 'Mission Bend', 'Mission Bend', 'Mission Bend', 'Mission Bend', 'Temple', 'Temple', 'Temple', 'Temple', 'Temple', 'Temple', 'Temple', 'Temple', 'Temple', 'Temple', 'Temple', 'Temple', 'Temple', 'Temple', 'Temple', 'Temple', 'Temple', 'Temple', 'Temple', 'Temple', 'Temple', 'Temple', 'Temple', 'Temple', 'Temple', 'Temple', 'Temple', 'Temple', 'Temple', 'Temple', 'Temple', 'Temple', 'Temple', 'Temple', 'Temple', 'Temple', 'Temple', 'Temple', 'Temple', 'Temple', 'League City', 'League City', 'League City', 'League City', 'League City', 'League City', 'League City', 'League City', 'League City', 'League City', 'League City', 'League City', 'League City', 'League City', 'League City', 'League City', 'League City', 'League City', 'League City', 'League City', 'League City', 'League City', 'League City', 'League City', 'League City', 'League City', 'League City', 'League City', 'League City', 'League City', 'League City', 'League City', 'League City', 'League City', 'League City', 'League City', 'League City', 'League City', 'League City', 'League City', 'Atascocita ', 'Atascocita ', 'Atascocita ', 'Atascocita ', 'Atascocita ', 'Atascocita ', 'Atascocita ', 'Atascocita ', 'Atascocita ', 'Atascocita ', 'Atascocita ', 'Atascocita ', 'Atascocita ', 'Atascocita ', 'Atascocita ', 'Atascocita ', 'Atascocita ', 'Atascocita ', 'Atascocita ', 'Atascocita ', 'Atascocita ', 'Atascocita ', 'Atascocita ', 'Atascocita ', 'Atascocita ', 'Atascocita ', 'Atascocita ', 'Atascocita ', 'Atascocita ', 'Atascocita ', 'Atascocita ', 'Atascocita ', 'Atascocita ', 'Atascocita ', 'Atascocita ', 'Atascocita ', 'Atascocita ', 'Atascocita ', 'Atascocita ', 'Atascocita ']\n",
            "['Meek Rd', 'Fieldtree Dr', 'Lakeland Dr', 'Carolyn Ct', 'Bower Rd', 'S Avenue D', 'N Houston Ave', 'Ferguson St', 'Killdeer Ln', 'Carriage Park Dr', 'Thomas Ln', 'Charles St', 'Nancy Ln', 'Bluebird Bend', 'S Avenue B', 'Hightower Ln', 'S Avenue F', 'FM 1960 - EASTEX', 'Will Clayton Pkwy(Intersection w/ Wilson Rd)', 'Manning Rd.', 'S Avenue A', 'Herman St', 'Windswept Dr', 'Oriole Ln', 'Windemere Ct', 'Isaacks Rd', 'E FM 1960', 'Eastway Village Dr', 'Prince Edward Ct', 'S Avenue E', 'Cantertrot Dr', 'Howard St', '6th St', 'Kathy St', 'Amy Ln', 'Memorial Glen Dr', 'Acapulco Village Dr', 'Welch', 'Ken St', 'Brian St', 'Delbarton Dr', 'Gaines Rd', 'Alegria Dr', 'Wahl Manor Ct', 'Alta Mar Dr', 'Stoneyview Dr.', 'Sierra Valle Dr', 'Mendocino Dr', 'Schumann Ln', 'Chickamauga Ln', 'Winkleman Rd', 'Plaza Libre Dr', 'Sinaloa Dr', 'Cerca Blanca Dr', 'Williwaw Dr', 'Paddington Place Dr', 'Camino Del Sol Dr', 'Menlo Dr', 'Green Cedar Dr', 'San Dario Dr', 'La Sombra Dr', 'Bershire Green Dr', 'Mesita Dr', 'Chelsworth Dr', 'Auto Park Way', 'Lindita Dr', 'San Lucas Dr', 'Encinita Dr', 'Soneto Dr', 'Cherryshire Dr', 'E Sienna Cove Ln', 'Heatherley Dr', 'Chickory Woods Ln', 'Keegans Ridge Way Dr', 'Paladora Park Ln', 'Mission Terrace Ct', 'Ballina Ridge Ct', 'Missionary Ridge Ln', 'Villa Del Sol Dr', 'Pasadero Dr', 'Beaver Loop', '39th St.', 'E Avenue J', 'Eagles Nest Cove', '23rd St.', 'Harbor Dr', 'Kimi Ln', \"Lawson's Point Rd\", 'Ledge Rd', 'Oakwood Rd', 'Post Oak Cir', 'S 25th St', 'S 33rd St', 'Sawyer Dr', 'Terrell Ln', 'Travis Ct', 'Victorian Dr', 'Villa Como Dr', 'Water Ridge Rd', 'Yorktown Dr', 'S 17th St.', 'Barnhardt Rd', 'Bobcat Trail', 'Carriage Rd', 'Cedar Rd', 'Coventry Dr', 'Fm 2086', 'Kton Rd', 'Little Elm Loop', 'Mariam Rd', 'Middle Rd', 'Morning Glory Dr', 'N 10th St', 'N 16th St', 'N 18th St', 'Pamela Rd', 'Reef Ln', 'Tarver Dr', 'Valley Forge Ave', 'Waterbury Ct', 'Indingo Dr', 'Silent Shore Ct', 'Apple St', 'Desert Willow Dr', 'Crystal Reef Dr', 'Spruce St.', 'Civil Dr', 'Balmoral Ln', 'Mckibben Ln', 'Broadmoor Ct', 'Whitehall Cir', 'Emerald Cloud Ln', 'Bay Creek Dr', 'Tallowood', 'Driftwood St', 'Varuna Ct.', 'Edgewood St.', 'Via Toscana', 'Quail Dove Ln', 'Sunset Terrace Dr', 'Amber Shore Dr', 'Bay Colony Dr', 'Bella Luna Ln', 'Bennigan St', 'Brittany Colony Dr', 'Cornell Ln', 'Fredericksburg Dr', 'Hawaii Ave', 'Haysden Ln', 'Intrepid Way', 'Lockland Ln', 'Lost Creek Ln', 'N Kansas Ave', 'N Wisconsin Ave', 'Persimmon Pointe', 'Riverside Dr ', 'Tree Bark Ln', 'W Main St', 'Waterford Ln', 'Yorktown Ct N', 'Atascocita Rd', 'Arbor Pines Ln', 'Timber Path Dr.', 'Sunlight Peak Ln.', 'Mile Run Rd.', 'Nashua Pines Ct', 'Barents Dr', 'Kelly Mill Ln.', 'Huffman Ln.', 'Summer Oaks Dr', 'Forest Rain Ln', 'Napa Valley Trl', 'Gypsy Forest Dr', 'Kayla Springs Ln.', 'Elk Lake Ct.', 'Bering Bridge Ln', 'Pacific Crest Ct.', 'Caldicote St', 'Silver Lure Dr.', 'Arrow Cove Ct', 'Springtree Dr', 'Oak Bower Dr', 'Spoonwood Ct', 'Twelfth Fairway Ln', 'Burle Oak Dr', 'Relay Rd', 'Knoche Dr', 'Preakness Palm Cr', 'Caldwell Pointe Ct', 'Red Sails Pass', 'Misty Peak Ln', 'Rolling Shores Ct', 'Atasca Creek Dr', 'Bent Tree Ct', 'Sun Glaze Dr', 'Turtle Manor Dr', 'Taurus Run Dr', 'Mount Riga Dr', 'Huntly Point Dr', 'Balmoral Stone Dr ']\n",
            "[0, 1, 1, 0, 0, 0, 0, 0, 1, 1, 1, 1, 0, 1, 1, 0, 0, 0, 0, 0, 0, 0, 1, 1, 1, 1, 0, 0, 0, 0, 0, 0, 0, 0, 0, 0, 0, 0, 0, 0, 1, 0, 1, 1, 1, 1, 1, 1, 1, 1, 1, 1, 1, 1, 1, 1, 1, 1, 1, 1, 1, 1, 1, 1, 1, 1, 1, 1, 1, 1, 1, 1, 1, 1, 1, 1, 1, 1, 1, 1, 0, 0, 0, 1, 0, 0, 0, 0, 0, 0, 0, 1, 1, 0, 0, 0, 0, 0, 1, 0, 1, 0, 0, 0, 1, 1, 0, 0, 0, 0, 0, 0, 1, 0, 0, 0, 0, 1, 0, 0, 0, 1, 0, 1, 1, 0, 1, 1, 0, 1, 1, 1, 1, 1, 0, 1, 0, 0, 1, 0, 1, 1, 1, 1, 1, 1, 1, 0, 1, 0, 1, 1, 0, 0, 1, 1, 1, 0, 1, 0, 0, 1, 1, 1, 0, 0, 0, 0, 0, 0, 1, 1, 1, 0, 1, 0, 0, 1, 0, 0, 0, 1, 0, 0, 1, 0, 0, 0, 1, 0, 1, 0, 1, 0, 1, 0, 0, 1, 1, 1]\n",
            "[20, 28, 28, 30, 25, 30, 25, 28, 28, 26, 25, 38, 26, 26, 32, 24, 27, 205, 63, 20, 32, 32, 25, 25, 26, 35, 26, 40, 28, 25, 28, 27, 15, 28, 26, 40, 27, 28, 25, 23, 27, 22, 27, 26, 26, 27, 27, 26, 26, 25, 38, 26, 27, 27, 38, 27, 26, 27, 27, 27, 26, 27, 27, 28, 40, 40, 28, 27, 27, 27, 26, 27, 26, 26, 25, 26, 26, 25, 26, 26, 28, 33, 27, 28, 29, 22, 28, 14, 13, 24, 25, 47, 30, 14, 17, 18, 28, 22, 30, 28, 29, 21, 30, 19, 45, 30, 22, 14, 18, 29, 22, 30, 30, 27, 23, 30, 18, 44, 28, 29, 27, 27, 12, 26, 25, 21, 26, 25, 14, 27, 27, 25, 26, 27, 26, 26, 25, 26, 26, 24, 30, 28, 26, 28, 28, 28, 28, 22, 26, 28, 28, 28, 26, 22, 28, 28, 28, 84, 28, 28, 68, 26, 25, 25, 26, 25, 23, 25, 14, 26, 27, 25, 25, 26, 27, 26, 25, 27, 25, 25, 28, 28, 28, 28, 28, 28, 22, 28, 28, 28, 28, 25, 28, 28, 28, 28, 28, 28, 28, 28]\n",
            "[500, 2470, 1740, 700, 600, 1160, 790, 900, 1150, 1150, 70, 1550, 170, 500, 1450, 1320, 1370, 2220, 2050, 900, 6246, 5100, 6200, 1400, 7025, 7000, 5000, 5500, 5700, 7900, 5000, 9400, 5400, 8000, 9600, 10200, 7700, 9100, 8800, 17000, 290, 2600, 1300, 500, 2800, 1180, 875, 1090, 1750, 650, 650, 200, 100, 900, 1450, 1750, 480, 490, 1550, 900, 683, 769, 2000, 1000, 3000, 343, 485, 208, 2660, 1500, 543, 778, 230, 275, 196, 832, 3800, 1000, 410, 2800, 3750, 8150, 1900, 1600, 4600, 1600, 1500, 380, 670, 2900, 2500, 4800, 5400, 4000, 2880, 1100, 2110, 2620, 11530, 3700, 5700, 7800, 1780, 2600, 8400, 9600, 9300, 2600, 7300, 11000, 2300, 9400, 9900, 7600, 9100, 10000, 496, 8300, 3800, 9200, 289, 1407, 2146, 2234, 1205, 1619, 3911, 4267, 1265, 1322, 3658, 1342, 1383, 1499, 2409, 2394, 1510, 544, 2652, 121, 1520, 1100, 200, 1330, 200, 1700, 4700, 2750, 220, 140, 2150, 1600, 1860, 1000, 2950, 850, 1100, 1680, 190, 5200, 5045, 2586, 3670, 3705, 443, 1257, 6160, 6032, 1887, 5045, 8989, 3947, 4143, 3607, 256, 1818, 1043, 642, 2196, 562, 2100, 1950, 380, 1650, 1550, 420, 5000, 340, 1600, 650, 500, 730, 220, 3750, 3900, 1800, 340, 2300, 4280, 1230]\n",
            "[0.8, 0.7, 0.82, 0.8, 0.82, 0.675, 0.675, 0.82, 0.82, 0.82, 0.7, 0.8, 0.7, 0.82, 0.8, 0.8, 0.75, 0.82, 0.675, 0.8, 0.8, 0.8, 0.7, 0.82, 0.7, 0.7, 0.675, 0.82, 0.7, 0.8, 0.7, 0.7, 0.7, 0.82, 0.7, 0.7, 0.82, 0.7, 0.82, 0.675, 0.7, 0.675, 0.82, 0.82, 0.82, 0.82, 0.82, 0.67, 0.7, 0.73, 0.7, 0.7, 0.7, 0.7, 0.82, 0.82, 0.82, 0.82, 0.73, 0.73, 0.7, 0.82, 0.73, 0.7, 0.73, 0.7, 0.7, 0.73, 0.7, 0.73, 0.82, 0.7, 0.73, 0.73, 0.82, 0.73, 0.82, 0.7, 0.73, 0.7, 0.8, 0.8, 0.73, 0.73, 0.8, 0.73, 0.8, 0.8, 0.73, 0.73, 0.73, 0.75, 0.75, 0.2, 0.73, 0.8, 0.73, 0.73, 0.73, 0.82, 0.8, 0.73, 0.73, 0.8, 0.7, 0.82, 0.675, 0.675, 0.73, 0.73, 0.2, 0.8, 0.73, 0.73, 0.8, 0.73, 0.73, 0.73, 0.73, 0.73, 0.82, 0.82, 0.2, 0.82, 0.82, 0.675, 0.7, 0.82, 0.85, 0.73, 0.82, 0.73, 0.82, 0.82, 0.73, 0.82, 0.8, 0.82, 0.82, 0.82, 0.73, 0.7, 0.82, 0.7, 0.82, 0.82, 0.7, 0.8, 0.7, 0.7, 0.82, 0.82, 0.675, 0.8, 0.7, 0.7, 0.82, 0.82, 0.7, 0.7, 0.675, 0.73, 0.82, 0.82, 0.82, 0.73, 0.2, 0.82, 0.85, 0.82, 0.82, 0.82, 0.82, 0.82, 0.82, 0.82, 0.82, 0.73, 0.82, 0.73, 0.7, 0.7, 0.7, 0.7, 0.7, 0.7, 0.8, 0.7, 0.82, 0.82, 0.82, 0.7, 0.82, 0.7, 0.82, 0.82, 0.82, 0.82, 0.82, 0.82]\n",
            "['Asphalt', 'Concrete', 'Concrete', 'Asphalt', 'concrete', 'Asphalt', 'Asphalt', 'Concrete', 'Concrete', 'Concrete', 'Concrete', 'Asphalt', 'Concrete', 'Concrete', 'Asphalt', 'Asphalt', 'Asphalt', 'Concrete', 'Asphalt', 'Asphalt', 'Asphalt ', 'Asphalt ', 'concrete', 'Concrete', 'concrete', 'Concrete', 'Asphalt', 'Concrete', 'Concrete', 'Asphalt', 'Concrete', 'Concrete', 'Asphalt', 'Concrete', 'Concrete', 'Concrete', 'Concrete', 'Concrete', 'Concrete', 'Asphalt', 'Concrete', 'Asphalt', 'Concrete', 'Concrete', 'Concrete', 'Concrete', 'Concrete', 'Concrete', 'Concrete', 'Concrete', 'Concrete', 'Concrete', 'Concrete', 'Concrete', 'Concrete', 'Concrete', 'Concrete', 'Concrete', 'Concrete', 'Concrete', 'Concrete', 'Concrete', 'Concrete', 'Concrete', 'Concrete', 'Concrete', 'Concrete', 'Concrete', 'Concrete', 'Concrete', 'Concrete', 'Concrete', 'concrete', 'Concrete', 'Concrete', 'Concrete', 'Concrete', 'Concrete', 'Concrete', 'Concrete', 'Asphalt', 'Asphalt', 'Asphalt', 'Asphalt', 'Asphalt', 'Asphalt', 'Asphalt', 'Asphalt', 'Asphalt', 'Asphalt', 'Asphalt', 'Asphalt', 'Asphalt', 'Unpaved', 'Asphalt', 'Asphalt', 'Asphalt', 'Asphalt', 'Asphalt', 'Concrete', 'Asphalt', 'Asphalt', 'Asphalt', 'Asphalt', 'Concrete', 'Concrete', 'Asphalt', 'Asphalt', 'Asphalt', 'Asphalt', 'Unpaved ', 'Asphalt', 'Asphalt', 'Asphalt', 'Asphalt', 'Asphalt', 'Asphalt', 'Concrete', 'Asphalt', 'Asphalt', 'Concrete', 'Concrete', 'Unpaved', 'Concrete', 'Concrete', 'Asphalt', 'Concrete', 'Concrete', 'Asphalt', 'Concrete', 'Concrete', 'Concrete', 'Concrete', 'Concrete', 'Concrete', 'Concrete', 'Asphalt', 'Concrete', 'Concrete', 'Concrete', 'Concrete', 'Concrete', 'Concrete', 'Concrete', 'Concrete', 'Concrete', 'Concrete', 'Asphalt', 'Concrete', 'concrete', 'Concrete', 'Concrete', 'Asphalt', 'Asphalt', 'Concrete', 'Concrete', 'Concrete', 'Concrete', 'Concrete', 'Concrete', 'Asphalt', 'Concrete', 'Concrete', 'Concrete', 'Concrete', 'Concrete', 'Asphalt', 'Concrete', 'Asphalt', 'Concrete', 'Concrete', 'Concrete', 'Concrete', 'Concrete', 'Concrete', 'Concrete', 'Concrete', 'Concrete', 'Concrete', 'Concrete', 'Concrete', 'Concrete', 'Concrete', 'Concrete', 'Concrete', 'Concrete', 'Asphalt', 'Concrete', 'Concrete', 'Concrete', 'Concrete', 'Concrete', 'Concrete', 'Concrete', 'Concrete', 'Concrete', 'Concrete', 'Concrete', 'Concrete', 'Concrete']\n",
            "[1, 1, 0, 0, 1, 0, 1, 0, 1, 1, 0, 0, 0, 1, 0, 0, 0, 1, 1, 1, 0, 0, 0, 1, 1, 0, 1, 1, 1, 0, 1, 0, 0, 0, 0, 0, 0, 0, 0, 1, 0, 1, 0, 0, 0, 0, 1, 1, 0, 1, 1, 1, 0, 0, 1, 0, 1, 0, 1, 1, 0, 0, 1, 0, 0, 0, 0, 0, 0, 0, 0, 0, 0, 1, 0, 0, 0, 0, 0, 0, 0, 0, 0, 0, 0, 0, 0, 1, 1, 0, 0, 0, 0, 0, 0, 0, 0, 0, 0, 0, 0, 1, 0, 0, 0, 0, 1, 1, 0, 0, 1, 0, 0, 0, 0, 0, 0, 1, 0, 0, 1, 0, 0, 1, 1, 1, 1, 0, 1, 0, 0, 0, 1, 0, 0, 0, 0, 0, 0, 0, 0, 0, 0, 1, 0, 1, 1, 1, 1, 1, 0, 0, 1, 1, 0, 0, 0, 1, 1, 0, 1, 0, 0, 0, 0, 0, 0, 0, 0, 1, 0, 0, 0, 0, 0, 0, 0, 0, 0, 0, 0, 0, 0, 0, 0, 0, 1, 0, 0, 1, 0, 0, 0, 0, 0, 0, 1, 0, 0, 1]\n",
            "Number of data points: 200\n",
            "\n",
            "Nolanville test data: \n",
            "['City/Town', 'Roads', 'Sidewalks', 'Road Width', 'Distance to Water', 'Material', 'Runoff Coefficient', 'Roads that flood']\n",
            "['Nolanville', 'Nolanville', 'Nolanville', 'Nolanville', 'Nolanville', 'Nolanville', 'Nolanville', 'Nolanville', 'Nolanville', 'Nolanville', 'Nolanville', 'Nolanville', 'Nolanville', 'Nolanville', 'Nolanville', 'Nolanville', 'Nolanville', 'Nolanville', 'Nolanville', 'Nolanville', 'Nolanville', 'Nolanville', 'Nolanville', 'Nolanville', 'Nolanville', 'Nolanville', 'Nolanville', 'Nolanville', 'Nolanville', 'Nolanville', 'Nolanville', 'Nolanville', 'Nolanville', 'Nolanville', 'Nolanville', 'Nolanville', 'Nolanville', 'Nolanville', 'Nolanville', 'Nolanville']\n",
            "['10th Street', 'Farm to Market 439 Spur', '9th Street', 'Avenue G', 'Avenue J', 'Billy The Kid Dr', 'Black Walknut Ct', 'Buttercup Cir', 'Chimney Hill Dr', 'Dober Street', 'E Ash Street', 'Gehler Cir', 'Harvest Drive', 'Hickory Ridge', 'Jesse James Drive', 'Jordan Loop', 'Manhattan Drive', 'Morningside Drive', 'Nolan Ridge Drive', 'Oak Ridge Drive', 'Parkridge Drive', 'Pointer Street', 'Redbud Road', 'Ryan Cir', 'Sims Ridge Drive', 'Stonecrest Drive', 'Sunrise Avenue', 'Timber Ridge Drive', 'Topeka Ct', 'W Ash Street', 'W Dale Avenue', 'W Elm Street', 'W Live Oak Street', 'W Lorie Avenue', 'W Street John Avenue', 'Wayne Drive', 'Weeping Willow Ct', 'Wilderness ct', 'Cindy Lane', 'E Pine Street']\n",
            "[1, 0, 0, 0, 0, 0, 0, 0, 0, 1, 0, 0, 0, 0, 0, 0, 0, 0, 0, 0, 0, 1, 0, 0, 0, 0, 0, 0, 0, 0, 0, 0, 0, 0, 0, 0, 0, 0, 0, 0]\n",
            "[28, 28, 20, 18, 20, 30, 30, 24, 30, 35, 28, 30, 32, 28, 30, 30, 30, 30, 36, 30, 34, 35, 30, 35, 30, 30, 30, 30, 30, 30, 30, 35, 25, 22, 30, 20, 30, 35, 30, 22]\n",
            "[1530, 2580, 1200, 1200, 1950, 2370, 3770, 520, 2250, 1880, 2800, 650, 480, 3800, 2950, 650, 2650, 550, 3150, 3450, 700, 1380, 450, 3780, 4030, 1200, 450, 3890, 2360, 2980, 3200, 2730, 2600, 3550, 3000, 2930, 4480, 660, 5110, 2230]\n",
            "[0.82, 0.8, 0.8, 0.8, 0.8, 0.8, 0.675, 0.675, 0.675, 0.8, 0.8, 0.675, 0.675, 0.675, 0.73, 0.73, 0.73, 0.8, 0.73, 0.73, 0.675, 0.675, 0.73, 0.8, 0.73, 0.675, 0.73, 0.73, 0.675, 0.8, 0.73, 0.8, 0.8, 0.8, 0.8, 0.73, 0.73, 0.675, 0.73, 0.8]\n",
            "['Concrete', 'Asphalt', 'Asphalt', 'Asphalt', 'Asphalt', 'Asphalt', 'Asphalt', 'Asphalt', 'Asphalt', 'Asphalt', 'Asphalt', 'Asphalt', 'Asphalt', 'Asphalt', 'Asphalt', 'Asphalt', 'Asphalt', 'Asphalt', 'Asphalt', 'Asphalt', 'Asphalt', 'Asphalt', 'Asphalt', 'Asphalt', 'Asphalt', 'Asphalt', 'Asphalt', 'Asphalt', 'Asphalt', 'Asphalt', 'Asphalt', 'Asphalt', 'Asphalt', 'Asphalt', 'Asphalt', 'Asphalt', 'Asphalt', 'Asphalt', 'Asphalt', 'Asphalt']\n",
            "[1, 0, 1, 0, 0, 0, 0, 1, 1, 0, 0, 1, 1, 0, 0, 0, 0, 1, 0, 0, 0, 0, 1, 0, 0, 1, 0, 0, 0, 0, 0, 0, 0, 0, 0, 0, 0, 0, 0, 0]\n",
            "Number of data points: 40\n"
          ],
          "name": "stdout"
        }
      ]
    },
    {
      "cell_type": "markdown",
      "metadata": {
        "id": "ls1GVvCxKeeS",
        "colab_type": "text"
      },
      "source": [
        "#Create Training Data Set\n",
        "train_data_x, train_data_y"
      ]
    },
    {
      "cell_type": "code",
      "metadata": {
        "id": "OZs0eMJHJpIi",
        "colab_type": "code",
        "colab": {
          "base_uri": "https://localhost:8080/",
          "height": 71
        },
        "outputId": "48e9cda7-84f7-4931-83cd-69e015478c1d"
      },
      "source": [
        "train_data_x = []\n",
        "train_data_y = train_flood\n",
        "\n",
        "for i in range(len(train_city)):\n",
        "  temp = []\n",
        "  temp.append(train_sidewalks[i])\n",
        "  temp.append(train_width[i])\n",
        "  temp.append(train_dist_water[i])\n",
        "  temp.append(train_runoff_coeficient[i])\n",
        "  train_data_x.append(temp)\n",
        "\n",
        "print(train_data_x)\n",
        "print(train_data_y)"
      ],
      "execution_count": null,
      "outputs": [
        {
          "output_type": "stream",
          "text": [
            "[[0, 20, 500, 0.8], [1, 28, 2470, 0.7], [1, 28, 1740, 0.82], [0, 30, 700, 0.8], [0, 25, 600, 0.82], [0, 30, 1160, 0.675], [0, 25, 790, 0.675], [0, 28, 900, 0.82], [1, 28, 1150, 0.82], [1, 26, 1150, 0.82], [1, 25, 70, 0.7], [1, 38, 1550, 0.8], [0, 26, 170, 0.7], [1, 26, 500, 0.82], [1, 32, 1450, 0.8], [0, 24, 1320, 0.8], [0, 27, 1370, 0.75], [0, 205, 2220, 0.82], [0, 63, 2050, 0.675], [0, 20, 900, 0.8], [0, 32, 6246, 0.8], [0, 32, 5100, 0.8], [1, 25, 6200, 0.7], [1, 25, 1400, 0.82], [1, 26, 7025, 0.7], [1, 35, 7000, 0.7], [0, 26, 5000, 0.675], [0, 40, 5500, 0.82], [0, 28, 5700, 0.7], [0, 25, 7900, 0.8], [0, 28, 5000, 0.7], [0, 27, 9400, 0.7], [0, 15, 5400, 0.7], [0, 28, 8000, 0.82], [0, 26, 9600, 0.7], [0, 40, 10200, 0.7], [0, 27, 7700, 0.82], [0, 28, 9100, 0.7], [0, 25, 8800, 0.82], [0, 23, 17000, 0.675], [1, 27, 290, 0.7], [0, 22, 2600, 0.675], [1, 27, 1300, 0.82], [1, 26, 500, 0.82], [1, 26, 2800, 0.82], [1, 27, 1180, 0.82], [1, 27, 875, 0.82], [1, 26, 1090, 0.67], [1, 26, 1750, 0.7], [1, 25, 650, 0.73], [1, 38, 650, 0.7], [1, 26, 200, 0.7], [1, 27, 100, 0.7], [1, 27, 900, 0.7], [1, 38, 1450, 0.82], [1, 27, 1750, 0.82], [1, 26, 480, 0.82], [1, 27, 490, 0.82], [1, 27, 1550, 0.73], [1, 27, 900, 0.73], [1, 26, 683, 0.7], [1, 27, 769, 0.82], [1, 27, 2000, 0.73], [1, 28, 1000, 0.7], [1, 40, 3000, 0.73], [1, 40, 343, 0.7], [1, 28, 485, 0.7], [1, 27, 208, 0.73], [1, 27, 2660, 0.7], [1, 27, 1500, 0.73], [1, 26, 543, 0.82], [1, 27, 778, 0.7], [1, 26, 230, 0.73], [1, 26, 275, 0.73], [1, 25, 196, 0.82], [1, 26, 832, 0.73], [1, 26, 3800, 0.82], [1, 25, 1000, 0.7], [1, 26, 410, 0.73], [1, 26, 2800, 0.7], [0, 28, 3750, 0.8], [0, 33, 8150, 0.8], [0, 27, 1900, 0.73], [1, 28, 1600, 0.73], [0, 29, 4600, 0.8], [0, 22, 1600, 0.73], [0, 28, 1500, 0.8], [0, 14, 380, 0.8], [0, 13, 670, 0.73], [0, 24, 2900, 0.73], [0, 25, 2500, 0.73], [1, 47, 4800, 0.75], [1, 30, 5400, 0.75], [0, 14, 4000, 0.2], [0, 17, 2880, 0.73], [0, 18, 1100, 0.8], [0, 28, 2110, 0.73], [0, 22, 2620, 0.73], [1, 30, 11530, 0.73], [0, 28, 3700, 0.82], [1, 29, 5700, 0.8], [0, 21, 7800, 0.73], [0, 30, 1780, 0.73], [0, 19, 2600, 0.8], [1, 45, 8400, 0.7], [1, 30, 9600, 0.82], [0, 22, 9300, 0.675], [0, 14, 2600, 0.675], [0, 18, 7300, 0.73], [0, 29, 11000, 0.73], [0, 22, 2300, 0.2], [0, 30, 9400, 0.8], [1, 30, 9900, 0.73], [0, 27, 7600, 0.73], [0, 23, 9100, 0.8], [0, 30, 10000, 0.73], [0, 18, 496, 0.73], [1, 44, 8300, 0.73], [0, 28, 3800, 0.73], [0, 29, 9200, 0.73], [0, 27, 289, 0.82], [1, 27, 1407, 0.82], [0, 12, 2146, 0.2], [1, 26, 2234, 0.82], [1, 25, 1205, 0.82], [0, 21, 1619, 0.675], [1, 26, 3911, 0.7], [1, 25, 4267, 0.82], [0, 14, 1265, 0.85], [1, 27, 1322, 0.73], [1, 27, 3658, 0.82], [1, 25, 1342, 0.73], [1, 26, 1383, 0.82], [1, 27, 1499, 0.82], [0, 26, 2409, 0.73], [1, 26, 2394, 0.82], [0, 25, 1510, 0.8], [0, 26, 544, 0.82], [1, 26, 2652, 0.82], [0, 24, 121, 0.82], [1, 30, 1520, 0.73], [1, 28, 1100, 0.7], [1, 26, 200, 0.82], [1, 28, 1330, 0.7], [1, 28, 200, 0.82], [1, 28, 1700, 0.82], [1, 28, 4700, 0.7], [0, 22, 2750, 0.8], [1, 26, 220, 0.7], [0, 28, 140, 0.7], [1, 28, 2150, 0.82], [1, 28, 1600, 0.82], [0, 26, 1860, 0.675], [0, 22, 1000, 0.8], [1, 28, 2950, 0.7], [1, 28, 850, 0.7], [1, 28, 1100, 0.82], [0, 84, 1680, 0.82], [1, 28, 190, 0.7], [0, 28, 5200, 0.7], [0, 68, 5045, 0.675], [1, 26, 2586, 0.73], [1, 25, 3670, 0.82], [1, 25, 3705, 0.82], [0, 26, 443, 0.82], [0, 25, 1257, 0.73], [0, 23, 6160, 0.2], [0, 25, 6032, 0.82], [0, 14, 1887, 0.85], [0, 26, 5045, 0.82], [1, 27, 8989, 0.82], [1, 25, 3947, 0.82], [1, 25, 4143, 0.82], [0, 26, 3607, 0.82], [1, 27, 256, 0.82], [0, 26, 1818, 0.82], [0, 25, 1043, 0.82], [1, 27, 642, 0.73], [0, 25, 2196, 0.82], [0, 25, 562, 0.73], [0, 28, 2100, 0.7], [1, 28, 1950, 0.7], [0, 28, 380, 0.7], [0, 28, 1650, 0.7], [1, 28, 1550, 0.7], [0, 28, 420, 0.7], [0, 22, 5000, 0.8], [0, 28, 340, 0.7], [1, 28, 1600, 0.82], [0, 28, 650, 0.82], [1, 28, 500, 0.82], [0, 25, 730, 0.7], [1, 28, 220, 0.82], [0, 28, 3750, 0.7], [1, 28, 3900, 0.82], [0, 28, 1800, 0.82], [0, 28, 340, 0.82], [1, 28, 2300, 0.82], [1, 28, 4280, 0.82], [1, 28, 1230, 0.82]]\n",
            "[1, 1, 0, 0, 1, 0, 1, 0, 1, 1, 0, 0, 0, 1, 0, 0, 0, 1, 1, 1, 0, 0, 0, 1, 1, 0, 1, 1, 1, 0, 1, 0, 0, 0, 0, 0, 0, 0, 0, 1, 0, 1, 0, 0, 0, 0, 1, 1, 0, 1, 1, 1, 0, 0, 1, 0, 1, 0, 1, 1, 0, 0, 1, 0, 0, 0, 0, 0, 0, 0, 0, 0, 0, 1, 0, 0, 0, 0, 0, 0, 0, 0, 0, 0, 0, 0, 0, 1, 1, 0, 0, 0, 0, 0, 0, 0, 0, 0, 0, 0, 0, 1, 0, 0, 0, 0, 1, 1, 0, 0, 1, 0, 0, 0, 0, 0, 0, 1, 0, 0, 1, 0, 0, 1, 1, 1, 1, 0, 1, 0, 0, 0, 1, 0, 0, 0, 0, 0, 0, 0, 0, 0, 0, 1, 0, 1, 1, 1, 1, 1, 0, 0, 1, 1, 0, 0, 0, 1, 1, 0, 1, 0, 0, 0, 0, 0, 0, 0, 0, 1, 0, 0, 0, 0, 0, 0, 0, 0, 0, 0, 0, 0, 0, 0, 0, 0, 1, 0, 0, 1, 0, 0, 0, 0, 0, 0, 1, 0, 0, 1]\n"
          ],
          "name": "stdout"
        }
      ]
    },
    {
      "cell_type": "markdown",
      "metadata": {
        "id": "9_5xg8hKKhiy",
        "colab_type": "text"
      },
      "source": [
        "#Create Nolanville Test Set\n",
        "nolanville_data_x, nolanville_data_y"
      ]
    },
    {
      "cell_type": "code",
      "metadata": {
        "id": "47DAweQZJ3zj",
        "colab_type": "code",
        "colab": {
          "base_uri": "https://localhost:8080/",
          "height": 71
        },
        "outputId": "3261785d-4419-456f-826c-09c685ecfda8"
      },
      "source": [
        "nolanville_data_x = []\n",
        "nolanville_data_y = nol_flood\n",
        "\n",
        "for i in range(len(nol_city)):\n",
        "  temp = []\n",
        "  temp.append(nol_sidewalks[i])\n",
        "  temp.append(nol_width[i])\n",
        "  temp.append(nol_dist_water[i])\n",
        "  temp.append(nol_runoff_coeficient[i])\n",
        "  nolanville_data_x.append(temp)\n",
        "\n",
        "print(nolanville_data_x)\n",
        "print(nolanville_data_y)"
      ],
      "execution_count": null,
      "outputs": [
        {
          "output_type": "stream",
          "text": [
            "[[1, 28, 1530, 0.82], [0, 28, 2580, 0.8], [0, 20, 1200, 0.8], [0, 18, 1200, 0.8], [0, 20, 1950, 0.8], [0, 30, 2370, 0.8], [0, 30, 3770, 0.675], [0, 24, 520, 0.675], [0, 30, 2250, 0.675], [1, 35, 1880, 0.8], [0, 28, 2800, 0.8], [0, 30, 650, 0.675], [0, 32, 480, 0.675], [0, 28, 3800, 0.675], [0, 30, 2950, 0.73], [0, 30, 650, 0.73], [0, 30, 2650, 0.73], [0, 30, 550, 0.8], [0, 36, 3150, 0.73], [0, 30, 3450, 0.73], [0, 34, 700, 0.675], [1, 35, 1380, 0.675], [0, 30, 450, 0.73], [0, 35, 3780, 0.8], [0, 30, 4030, 0.73], [0, 30, 1200, 0.675], [0, 30, 450, 0.73], [0, 30, 3890, 0.73], [0, 30, 2360, 0.675], [0, 30, 2980, 0.8], [0, 30, 3200, 0.73], [0, 35, 2730, 0.8], [0, 25, 2600, 0.8], [0, 22, 3550, 0.8], [0, 30, 3000, 0.8], [0, 20, 2930, 0.73], [0, 30, 4480, 0.73], [0, 35, 660, 0.675], [0, 30, 5110, 0.73], [0, 22, 2230, 0.8]]\n",
            "[1, 0, 1, 0, 0, 0, 0, 1, 1, 0, 0, 1, 1, 0, 0, 0, 0, 1, 0, 0, 0, 0, 1, 0, 0, 1, 0, 0, 0, 0, 0, 0, 0, 0, 0, 0, 0, 0, 0, 0]\n"
          ],
          "name": "stdout"
        }
      ]
    },
    {
      "cell_type": "markdown",
      "metadata": {
        "id": "fQ14399IgmZZ",
        "colab_type": "text"
      },
      "source": [
        "# T-scores of Features"
      ]
    },
    {
      "cell_type": "code",
      "metadata": {
        "id": "iY-UlpBu8CJR",
        "colab_type": "code",
        "colab": {}
      },
      "source": [
        "# from https://github.com/jundongl/scikit-feature.zip\n"
      ],
      "execution_count": null,
      "outputs": []
    },
    {
      "cell_type": "code",
      "metadata": {
        "id": "YA6dRhMuc7HP",
        "colab_type": "code",
        "colab": {}
      },
      "source": [
        "\n",
        "from sklearn.metrics.pairwise import pairwise_distances\n",
        "\n",
        "\n",
        "def construct_W(X, **kwargs):\n",
        "    \"\"\"import numpy as np\n",
        "    Construct the affinity matrix W through different ways\n",
        "    Notes\n",
        "    -----\n",
        "    if kwargs is null, use the default parameter settings;\n",
        "    if kwargs is not null, construct the affinity matrix according to parameters in kwargs\n",
        "    Input\n",
        "    -----\n",
        "    X: {numpy array}, shape (n_samples, n_features)\n",
        "        input data\n",
        "    kwargs: {dictionary}\n",
        "        parameters to construct different affinity matrix W:\n",
        "        y: {numpy array}, shape (n_samples, 1)\n",
        "            the true label information needed under the 'supervised' neighbor mode\n",
        "        metric: {string}\n",
        "            choices for different distance measures\n",
        "            'euclidean' - use euclidean distance\n",
        "            'cosine' - use cosine distance (default)\n",
        "        neighbor_mode: {string}\n",
        "            indicates how to construct the graph\n",
        "            'knn' - put an edge between two nodes if and only if they are among the\n",
        "                    k nearest neighbors of each other (default)\n",
        "            'supervised' - put an edge between two nodes if they belong to same class\n",
        "                    and they are among the k nearest neighbors of each other\n",
        "        weight_mode: {string}\n",
        "            indicates how to assign weights for each edge in the graph\n",
        "            'binary' - 0-1 weighting, every edge receives weight of 1 (default)\n",
        "            'heat_kernel' - if nodes i and j are connected, put weight W_ij = exp(-norm(x_i - x_j)/2t^2)\n",
        "                            this weight mode can only be used under 'euclidean' metric and you are required\n",
        "                            to provide the parameter t\n",
        "            'cosine' - if nodes i and j are connected, put weight cosine(x_i,x_j).\n",
        "                        this weight mode can only be used under 'cosine' metric\n",
        "        k: {int}\n",
        "            choices for the number of neighbors (default k = 5)\n",
        "        t: {float}\n",
        "            parameter for the 'heat_kernel' weight_mode\n",
        "        fisher_score: {boolean}\n",
        "            indicates whether to build the affinity matrix in a fisher score way, in which W_ij = 1/n_l if yi = yj = l;\n",
        "            otherwise W_ij = 0 (default fisher_score = false)\n",
        "        reliefF: {boolean}\n",
        "            indicates whether to build the affinity matrix in a reliefF way, NH(x) and NM(x,y) denotes a set of\n",
        "            k nearest points to x with the same class as x, and a different class (the class y), respectively.\n",
        "            W_ij = 1 if i = j; W_ij = 1/k if x_j \\in NH(x_i); W_ij = -1/(c-1)k if x_j \\in NM(x_i, y) (default reliefF = false)\n",
        "    Output\n",
        "    ------\n",
        "    W: {sparse matrix}, shape (n_samples, n_samples)\n",
        "        output affinity matrix W\n",
        "    \"\"\"\n",
        "\n",
        "    # default metric is 'cosine'\n",
        "    if 'metric' not in kwargs.keys():\n",
        "        kwargs['metric'] = 'cosine'\n",
        "\n",
        "    # default neighbor mode is 'knn' and default neighbor size is 5\n",
        "    if 'neighbor_mode' not in kwargs.keys():\n",
        "        kwargs['neighbor_mode'] = 'knn'\n",
        "    if kwargs['neighbor_mode'] == 'knn' and 'k' not in kwargs.keys():\n",
        "        kwargs['k'] = 5\n",
        "    if kwargs['neighbor_mode'] == 'supervised' and 'k' not in kwargs.keys():\n",
        "        kwargs['k'] = 5\n",
        "    if kwargs['neighbor_mode'] == 'supervised' and 'y' not in kwargs.keys():\n",
        "        print ('Warning: label is required in the supervised neighborMode!!!')\n",
        "        exit(0)\n",
        "\n",
        "    # default weight mode is 'binary', default t in heat kernel mode is 1\n",
        "    if 'weight_mode' not in kwargs.keys():\n",
        "        kwargs['weight_mode'] = 'binary'\n",
        "    if kwargs['weight_mode'] == 'heat_kernel':\n",
        "        if kwargs['metric'] != 'euclidean':\n",
        "            kwargs['metric'] = 'euclidean'\n",
        "        if 't' not in kwargs.keys():\n",
        "            kwargs['t'] = 1\n",
        "    elif kwargs['weight_mode'] == 'cosine':\n",
        "        if kwargs['metric'] != 'cosine':\n",
        "            kwargs['metric'] = 'cosine'\n",
        "\n",
        "    # default fisher_score and reliefF mode are 'false'\n",
        "    if 'fisher_score' not in kwargs.keys():\n",
        "        kwargs['fisher_score'] = False\n",
        "    if 'reliefF' not in kwargs.keys():\n",
        "        kwargs['reliefF'] = False\n",
        "\n",
        "    n_samples, n_features = np.shape(X)\n",
        "\n",
        "    # choose 'knn' neighbor mode\n",
        "    if kwargs['neighbor_mode'] == 'knn':\n",
        "        k = kwargs['k']\n",
        "        if kwargs['weight_mode'] == 'binary':\n",
        "            if kwargs['metric'] == 'euclidean':\n",
        "                # compute pairwise euclidean distances\n",
        "                D = pairwise_distances(X)\n",
        "                D **= 2\n",
        "                # sort the distance matrix D in ascending order\n",
        "                dump = np.sort(D, axis=1)\n",
        "                idx = np.argsort(D, axis=1)\n",
        "                # choose the k-nearest neighbors for each instance\n",
        "                idx_new = idx[:, 0:k+1]\n",
        "                G = np.zeros((n_samples*(k+1), 3))\n",
        "                G[:, 0] = np.tile(np.arange(n_samples), (k+1, 1)).reshape(-1)\n",
        "                G[:, 1] = np.ravel(idx_new, order='F')\n",
        "                G[:, 2] = 1\n",
        "                # build the sparse affinity matrix W\n",
        "                W = csc_matrix((G[:, 2], (G[:, 0], G[:, 1])), shape=(n_samples, n_samples))\n",
        "                bigger = np.transpose(W) > W\n",
        "                W = W - W.multiply(bigger) + np.transpose(W).multiply(bigger)\n",
        "                return W\n",
        "\n",
        "            elif kwargs['metric'] == 'cosine':\n",
        "                # normalize the data first\n",
        "                X_normalized = np.power(np.sum(X*X, axis=1), 0.5)\n",
        "                for i in range(n_samples):\n",
        "                    X[i, :] = X[i, :]/max(1e-12, X_normalized[i])\n",
        "                # compute pairwise cosine distances\n",
        "                D_cosine = np.dot(X, np.transpose(X))\n",
        "                # sort the distance matrix D in descending order\n",
        "                dump = np.sort(-D_cosine, axis=1)\n",
        "                idx = np.argsort(-D_cosine, axis=1)\n",
        "                idx_new = idx[:, 0:k+1]\n",
        "                G = np.zeros((n_samples*(k+1), 3))\n",
        "                G[:, 0] = np.tile(np.arange(n_samples), (k+1, 1)).reshape(-1)\n",
        "                G[:, 1] = np.ravel(idx_new, order='F')\n",
        "                G[:, 2] = 1\n",
        "                # build the sparse affinity matrix W\n",
        "                W = csc_matrix((G[:, 2], (G[:, 0], G[:, 1])), shape=(n_samples, n_samples))\n",
        "                bigger = np.transpose(W) > W\n",
        "                W = W - W.multiply(bigger) + np.transpose(W).multiply(bigger)\n",
        "                return W\n",
        "\n",
        "        elif kwargs['weight_mode'] == 'heat_kernel':\n",
        "            t = kwargs['t']\n",
        "            # compute pairwise euclidean distances\n",
        "            D = pairwise_distances(X)\n",
        "            D **= 2\n",
        "            # sort the distance matrix D in ascending order\n",
        "            dump = np.sort(D, axis=1)\n",
        "            idx = np.argsort(D, axis=1)\n",
        "            idx_new = idx[:, 0:k+1]\n",
        "            dump_new = dump[:, 0:k+1]\n",
        "            # compute the pairwise heat kernel distances\n",
        "            dump_heat_kernel = np.exp(-dump_new/(2*t*t))\n",
        "            G = np.zeros((n_samples*(k+1), 3))\n",
        "            G[:, 0] = np.tile(np.arange(n_samples), (k+1, 1)).reshape(-1)\n",
        "            G[:, 1] = np.ravel(idx_new, order='F')\n",
        "            G[:, 2] = np.ravel(dump_heat_kernel, order='F')\n",
        "            # build the sparse affinity matrix W\n",
        "            W = csc_matrix((G[:, 2], (G[:, 0], G[:, 1])), shape=(n_samples, n_samples))\n",
        "            bigger = np.transpose(W) > W\n",
        "            W = W - W.multiply(bigger) + np.transpose(W).multiply(bigger)\n",
        "            return W\n",
        "\n",
        "        elif kwargs['weight_mode'] == 'cosine':\n",
        "            # normalize the data first\n",
        "            X_normalized = np.power(np.sum(X*X, axis=1), 0.5)\n",
        "            for i in range(n_samples):\n",
        "                    X[i, :] = X[i, :]/max(1e-12, X_normalized[i])\n",
        "            # compute pairwise cosine distances\n",
        "            D_cosine = np.dot(X, np.transpose(X))\n",
        "            # sort the distance matrix D in ascending order\n",
        "            dump = np.sort(-D_cosine, axis=1)\n",
        "            idx = np.argsort(-D_cosine, axis=1)\n",
        "            idx_new = idx[:, 0:k+1]\n",
        "            dump_new = -dump[:, 0:k+1]\n",
        "            G = np.zeros((n_samples*(k+1), 3))\n",
        "            G[:, 0] = np.tile(np.arange(n_samples), (k+1, 1)).reshape(-1)\n",
        "            G[:, 1] = np.ravel(idx_new, order='F')\n",
        "            G[:, 2] = np.ravel(dump_new, order='F')\n",
        "            # build the sparse affinity matrix W\n",
        "            W = csc_matrix((G[:, 2], (G[:, 0], G[:, 1])), shape=(n_samples, n_samples))\n",
        "            bigger = np.transpose(W) > W\n",
        "            W = W - W.multiply(bigger) + np.transpose(W).multiply(bigger)\n",
        "            return W\n",
        "\n",
        "    # choose supervised neighborMode\n",
        "    elif kwargs['neighbor_mode'] == 'supervised':\n",
        "        k = kwargs['k']\n",
        "        # get true labels and the number of classes\n",
        "        y = kwargs['y']\n",
        "        label = np.unique(y)\n",
        "        n_classes = np.unique(y).size\n",
        "        # construct the weight matrix W in a fisherScore way, W_ij = 1/n_l if yi = yj = l, otherwise W_ij = 0\n",
        "        if kwargs['fisher_score'] is True:\n",
        "            W = lil_matrix((n_samples, n_samples))\n",
        "            for i in range(n_classes):\n",
        "                class_idx = (y == label[i])\n",
        "                class_idx_all = (class_idx[:, np.newaxis] & class_idx[np.newaxis, :])\n",
        "                W[class_idx_all] = 1.0/np.sum(np.sum(class_idx))\n",
        "            return W\n",
        "\n",
        "        # construct the weight matrix W in a reliefF way, NH(x) and NM(x,y) denotes a set of k nearest\n",
        "        # points to x with the same class as x, a different class (the class y), respectively. W_ij = 1 if i = j;\n",
        "        # W_ij = 1/k if x_j \\in NH(x_i); W_ij = -1/(c-1)k if x_j \\in NM(x_i, y)\n",
        "        if kwargs['reliefF'] is True:\n",
        "            # when xj in NH(xi)\n",
        "            G = np.zeros((n_samples*(k+1), 3))\n",
        "            id_now = 0\n",
        "            for i in range(n_classes):\n",
        "                class_idx = np.column_stack(np.where(y == label[i]))[:, 0]\n",
        "                D = pairwise_distances(X[class_idx, :])\n",
        "                D **= 2\n",
        "                idx = np.argsort(D, axis=1)\n",
        "                idx_new = idx[:, 0:k+1]\n",
        "                n_smp_class = (class_idx[idx_new[:]]).size\n",
        "                if len(class_idx) <= k:\n",
        "                    k = len(class_idx) - 1\n",
        "                G[id_now:n_smp_class+id_now, 0] = np.tile(class_idx, (k+1, 1)).reshape(-1)\n",
        "                G[id_now:n_smp_class+id_now, 1] = np.ravel(class_idx[idx_new[:]], order='F')\n",
        "                G[id_now:n_smp_class+id_now, 2] = 1.0/k\n",
        "                id_now += n_smp_class\n",
        "            W1 = csc_matrix((G[:, 2], (G[:, 0], G[:, 1])), shape=(n_samples, n_samples))\n",
        "            # when i = j, W_ij = 1\n",
        "            for i in range(n_samples):\n",
        "                W1[i, i] = 1\n",
        "            # when x_j in NM(x_i, y)\n",
        "            G = np.zeros((n_samples*k*(n_classes - 1), 3))\n",
        "            id_now = 0\n",
        "            for i in range(n_classes):\n",
        "                class_idx1 = np.column_stack(np.where(y == label[i]))[:, 0]\n",
        "                X1 = X[class_idx1, :]\n",
        "                for j in range(n_classes):\n",
        "                    if label[j] != label[i]:\n",
        "                        class_idx2 = np.column_stack(np.where(y == label[j]))[:, 0]\n",
        "                        X2 = X[class_idx2, :]\n",
        "                        D = pairwise_distances(X1, X2)\n",
        "                        idx = np.argsort(D, axis=1)\n",
        "                        idx_new = idx[:, 0:k]\n",
        "                        n_smp_class = len(class_idx1)*k\n",
        "                        G[id_now:n_smp_class+id_now, 0] = np.tile(class_idx1, (k, 1)).reshape(-1)\n",
        "                        G[id_now:n_smp_class+id_now, 1] = np.ravel(class_idx2[idx_new[:]], order='F')\n",
        "                        G[id_now:n_smp_class+id_now, 2] = -1.0/((n_classes-1)*k)\n",
        "                        id_now += n_smp_class\n",
        "            W2 = csc_matrix((G[:, 2], (G[:, 0], G[:, 1])), shape=(n_samples, n_samples))\n",
        "            bigger = np.transpose(W2) > W2\n",
        "            W2 = W2 - W2.multiply(bigger) + np.transpose(W2).multiply(bigger)\n",
        "            W = W1 + W2\n",
        "            return W\n",
        "\n",
        "        if kwargs['weight_mode'] == 'binary':\n",
        "            if kwargs['metric'] == 'euclidean':\n",
        "                G = np.zeros((n_samples*(k+1), 3))\n",
        "                id_now = 0\n",
        "                for i in range(n_classes):\n",
        "                    class_idx = np.column_stack(np.where(y == label[i]))[:, 0]\n",
        "                    # compute pairwise euclidean distances for instances in class i\n",
        "                    D = pairwise_distances(X[class_idx, :])\n",
        "                    D **= 2\n",
        "                    # sort the distance matrix D in ascending order for instances in class i\n",
        "                    idx = np.argsort(D, axis=1)\n",
        "                    idx_new = idx[:, 0:k+1]\n",
        "                    n_smp_class = len(class_idx)*(k+1)\n",
        "                    G[id_now:n_smp_class+id_now, 0] = np.tile(class_idx, (k+1, 1)).reshape(-1)\n",
        "                    G[id_now:n_smp_class+id_now, 1] = np.ravel(class_idx[idx_new[:]], order='F')\n",
        "                    G[id_now:n_smp_class+id_now, 2] = 1\n",
        "                    id_now += n_smp_class\n",
        "                # build the sparse affinity matrix W\n",
        "                W = csc_matrix((G[:, 2], (G[:, 0], G[:, 1])), shape=(n_samples, n_samples))\n",
        "                bigger = np.transpose(W) > W\n",
        "                W = W - W.multiply(bigger) + np.transpose(W).multiply(bigger)\n",
        "                return W\n",
        "\n",
        "            if kwargs['metric'] == 'cosine':\n",
        "                # normalize the data first\n",
        "                X_normalized = np.power(np.sum(X*X, axis=1), 0.5)\n",
        "                for i in range(n_samples):\n",
        "                    X[i, :] = X[i, :]/max(1e-12, X_normalized[i])\n",
        "                G = np.zeros((n_samples*(k+1), 3))\n",
        "                id_now = 0\n",
        "                for i in range(n_classes):\n",
        "                    class_idx = np.column_stack(np.where(y == label[i]))[:, 0]\n",
        "                    # compute pairwise cosine distances for instances in class i\n",
        "                    D_cosine = np.dot(X[class_idx, :], np.transpose(X[class_idx, :]))\n",
        "                    # sort the distance matrix D in descending order for instances in class i\n",
        "                    idx = np.argsort(-D_cosine, axis=1)\n",
        "                    idx_new = idx[:, 0:k+1]\n",
        "                    n_smp_class = len(class_idx)*(k+1)\n",
        "                    G[id_now:n_smp_class+id_now, 0] = np.tile(class_idx, (k+1, 1)).reshape(-1)\n",
        "                    G[id_now:n_smp_class+id_now, 1] = np.ravel(class_idx[idx_new[:]], order='F')\n",
        "                    G[id_now:n_smp_class+id_now, 2] = 1\n",
        "                    id_now += n_smp_class\n",
        "                # build the sparse affinity matrix W\n",
        "                W = csc_matrix((G[:, 2], (G[:, 0], G[:, 1])), shape=(n_samples, n_samples))\n",
        "                bigger = np.transpose(W) > W\n",
        "                W = W - W.multiply(bigger) + np.transpose(W).multiply(bigger)\n",
        "                return W\n",
        "\n",
        "        elif kwargs['weight_mode'] == 'heat_kernel':\n",
        "            G = np.zeros((n_samples*(k+1), 3))\n",
        "            id_now = 0\n",
        "            for i in range(n_classes):\n",
        "                class_idx = np.column_stack(np.where(y == label[i]))[:, 0]\n",
        "                # compute pairwise cosine distances for instances in class i\n",
        "                D = pairwise_distances(X[class_idx, :])\n",
        "                D **= 2\n",
        "                # sort the distance matrix D in ascending order for instances in class i\n",
        "                dump = np.sort(D, axis=1)\n",
        "                idx = np.argsort(D, axis=1)\n",
        "                idx_new = idx[:, 0:k+1]\n",
        "                dump_new = dump[:, 0:k+1]\n",
        "                t = kwargs['t']\n",
        "                # compute pairwise heat kernel distances for instances in class i\n",
        "                dump_heat_kernel = np.exp(-dump_new/(2*t*t))\n",
        "                n_smp_class = len(class_idx)*(k+1)\n",
        "                G[id_now:n_smp_class+id_now, 0] = np.tile(class_idx, (k+1, 1)).reshape(-1)\n",
        "                G[id_now:n_smp_class+id_now, 1] = np.ravel(class_idx[idx_new[:]], order='F')\n",
        "                G[id_now:n_smp_class+id_now, 2] = np.ravel(dump_heat_kernel, order='F')\n",
        "                id_now += n_smp_class\n",
        "            # build the sparse affinity matrix W\n",
        "            W = csc_matrix((G[:, 2], (G[:, 0], G[:, 1])), shape=(n_samples, n_samples))\n",
        "            bigger = np.transpose(W) > W\n",
        "            W = W - W.multiply(bigger) + np.transpose(W).multiply(bigger)\n",
        "            return W\n",
        "\n",
        "        elif kwargs['weight_mode'] == 'cosine':\n",
        "            # normalize the data first\n",
        "            X_normalized = np.power(np.sum(X*X, axis=1), 0.5)\n",
        "            for i in range(n_samples):\n",
        "                X[i, :] = X[i, :]/max(1e-12, X_normalized[i])\n",
        "            G = np.zeros((n_samples*(k+1), 3))\n",
        "            id_now = 0\n",
        "            for i in range(n_classes):\n",
        "                class_idx = np.column_stack(np.where(y == label[i]))[:, 0]\n",
        "                # compute pairwise cosine distances for instances in class i\n",
        "                D_cosine = np.dot(X[class_idx, :], np.transpose(X[class_idx, :]))\n",
        "                # sort the distance matrix D in descending order for instances in class i\n",
        "                dump = np.sort(-D_cosine, axis=1)\n",
        "                idx = np.argsort(-D_cosine, axis=1)\n",
        "                idx_new = idx[:, 0:k+1]\n",
        "                dump_new = -dump[:, 0:k+1]\n",
        "                n_smp_class = len(class_idx)*(k+1)\n",
        "                G[id_now:n_smp_class+id_now, 0] = np.tile(class_idx, (k+1, 1)).reshape(-1)\n",
        "                G[id_now:n_smp_class+id_now, 1] = np.ravel(class_idx[idx_new[:]], order='F')\n",
        "                G[id_now:n_smp_class+id_now, 2] = np.ravel(dump_new, order='F')\n",
        "                id_now += n_smp_class\n",
        "            # build the sparse affinity matrix W\n",
        "            W = csc_matrix((G[:, 2], (G[:, 0], G[:, 1])), shape=(n_samples, n_samples))\n",
        "            bigger = np.transpose(W) > W\n",
        "            W = W - W.multiply(bigger) + np.transpose(W).multiply(bigger)\n",
        "            return W"
      ],
      "execution_count": null,
      "outputs": []
    },
    {
      "cell_type": "code",
      "metadata": {
        "id": "U8g6oBCkcQT3",
        "colab_type": "code",
        "colab": {}
      },
      "source": [
        "from scipy.sparse import *\n",
        "\n",
        "def fisher_score(X, y):\n",
        "    \"\"\"\n",
        "    This function implements the fisher score feature selection, steps are as follows:\n",
        "    1. Construct the affinity matrix W in fisher score way\n",
        "    2. For the r-th feature, we define fr = X(:,r), D = diag(W*ones), ones = [1,...,1]', L = D - W\n",
        "    3. Let fr_hat = fr - (fr'*D*ones)*ones/(ones'*D*ones)\n",
        "    4. Fisher score for the r-th feature is score = (fr_hat'*D*fr_hat)/(fr_hat'*L*fr_hat)-1\n",
        "    Input\n",
        "    -----\n",
        "    X: {numpy array}, shape (n_samples, n_features)\n",
        "        input data\n",
        "    y: {numpy array}, shape (n_samples,)\n",
        "        input class labels\n",
        "    Output\n",
        "    ------\n",
        "    score: {numpy array}, shape (n_features,)\n",
        "        fisher score for each feature\n",
        "    Reference\n",
        "    ---------\n",
        "    He, Xiaofei et al. \"Laplacian Score for Feature Selection.\" NIPS 2005.\n",
        "    Duda, Richard et al. \"Pattern classification.\" John Wiley & Sons, 2012.\n",
        "    \"\"\"\n",
        "\n",
        "    # Construct weight matrix W in a fisherScore way\n",
        "    kwargs = {\"neighbor_mode\": \"supervised\", \"fisher_score\": True, 'y': y}\n",
        "    W = construct_W(X, **kwargs)\n",
        "\n",
        "    # build the diagonal D matrix from affinity matrix W\n",
        "    D = np.array(W.sum(axis=1))\n",
        "    L = W\n",
        "    tmp = np.dot(np.transpose(D), X)\n",
        "    D = diags(np.transpose(D), [0])\n",
        "    Xt = np.transpose(X)\n",
        "    t1 = np.transpose(np.dot(Xt, D.todense()))\n",
        "    t2 = np.transpose(np.dot(Xt, L.todense()))\n",
        "    # compute the numerator of Lr\n",
        "    D_prime = np.sum(np.multiply(t1, X), 0) - np.multiply(tmp, tmp)/D.sum()\n",
        "    # compute the denominator of Lr\n",
        "    L_prime = np.sum(np.multiply(t2, X), 0) - np.multiply(tmp, tmp)/D.sum()\n",
        "    # avoid the denominator of Lr to be 0\n",
        "    D_prime[D_prime < 1e-12] = 10000\n",
        "    lap_score = 1 - np.array(np.multiply(L_prime, 1/D_prime))[0, :]\n",
        "\n",
        "    # compute fisher score from laplacian score, where fisher_score = 1/lap_score - 1\n",
        "    score = 1.0/lap_score - 1\n",
        "    return np.transpose(score)\n",
        "\n",
        "\n",
        "def feature_ranking(score):\n",
        "    \"\"\"\n",
        "    Rank features in descending order according to fisher score, the larger the fisher score, the more important the\n",
        "    feature is\n",
        "    \"\"\"\n",
        "    idx = np.argsort(score, 0)\n",
        "    return idx[::-1]"
      ],
      "execution_count": null,
      "outputs": []
    },
    {
      "cell_type": "code",
      "metadata": {
        "id": "fm6_GBEd6gkg",
        "colab_type": "code",
        "colab": {
          "base_uri": "https://localhost:8080/",
          "height": 34
        },
        "outputId": "1dfe2375-c41e-4c47-d9fd-a3f712727ee9"
      },
      "source": [
        "score = fisher_score(train_data_x,train_data_y)\n",
        "print(score)\n",
        "# feature_ranking(score)"
      ],
      "execution_count": null,
      "outputs": [
        {
          "output_type": "stream",
          "text": [
            "[0.00274503 0.01613235 0.00877272 0.00133115]\n"
          ],
          "name": "stdout"
        }
      ]
    },
    {
      "cell_type": "markdown",
      "metadata": {
        "id": "h1yWQl4PgoxT",
        "colab_type": "text"
      },
      "source": [
        "#kNN Model"
      ]
    },
    {
      "cell_type": "code",
      "metadata": {
        "id": "LrnWYMcKuCGb",
        "colab_type": "code",
        "colab": {}
      },
      "source": [
        "def five_fold_spliter(n, data, outcome):\n",
        "  new_data = []\n",
        "  val_data = []\n",
        "  new_data_outcome = []\n",
        "  val_data_outcome = []\n",
        "  split = len(data)//5 #calculate how large a 5th of the data is\n",
        "  for i in range(len(data)):\n",
        "    if(i > split*(n-1) and i< split*n): #target split\n",
        "      val_data.append(data[i])\n",
        "      val_data_outcome.append(outcome[i])\n",
        "    else:\n",
        "      new_data.append(data[i])\n",
        "      new_data_outcome.append(outcome[i])\n",
        "  return new_data, new_data_outcome, val_data, val_data_outcome\n",
        "\n",
        "def average(a):\n",
        "  sum = 0\n",
        "  for i in a:\n",
        "    sum+=i\n",
        "  return sum/len(a)"
      ],
      "execution_count": null,
      "outputs": []
    },
    {
      "cell_type": "code",
      "metadata": {
        "id": "T_dLqXE_tb_3",
        "colab_type": "code",
        "colab": {
          "base_uri": "https://localhost:8080/",
          "height": 34
        },
        "outputId": "460dfb62-f0cc-49c3-ddfc-1ce9e33fe1e4"
      },
      "source": [
        "from sklearn.neighbors import KNeighborsClassifier\n",
        "from sklearn.metrics import accuracy_score\n",
        "\n",
        "average_acc_k = []\n",
        "for number_neighbors in range(1,17,2): \n",
        "  fold_averages = []\n",
        "  for i in range(1,6):\n",
        "    new_data, new_data_outcome, val_data, val_data_outcome = five_fold_spliter(i,train_data_x,train_data_y)\n",
        "    kNN = KNeighborsClassifier(n_neighbors=number_neighbors) \n",
        "    kNN.fit(new_data, new_data_outcome)\n",
        "    prediction = kNN.predict(val_data)\n",
        "    fold_averages.append(accuracy_score(prediction, val_data_outcome))\n",
        "  average_acc_k.append(average(fold_averages))\n",
        "k_value = average_acc_k.index(max(average_acc_k))*2+1\n",
        "print(\"The optimal value of k is: \" + str(k_value))"
      ],
      "execution_count": null,
      "outputs": [
        {
          "output_type": "stream",
          "text": [
            "The optimal value of k is: 5\n"
          ],
          "name": "stdout"
        }
      ]
    },
    {
      "cell_type": "markdown",
      "metadata": {
        "id": "ds1MvLD0gtaX",
        "colab_type": "text"
      },
      "source": [
        "#Nolanville results"
      ]
    },
    {
      "cell_type": "code",
      "metadata": {
        "id": "cbzoK6GFxR5q",
        "colab_type": "code",
        "colab": {
          "base_uri": "https://localhost:8080/",
          "height": 748
        },
        "outputId": "4b22296d-6125-431f-c69b-6dc8bee55334"
      },
      "source": [
        "kNN = KNeighborsClassifier(n_neighbors=k_value) \n",
        "kNN.fit(train_data_x, train_data_y)\n",
        "prediction = kNN.predict(nolanville_data_x)\n",
        "nolanville_accuracy = accuracy_score(prediction,nolanville_data_y)\n",
        "print(\"The accuracy (Jaccard index) of the model on the Nolanville data is: \" + str(nolanville_accuracy))\n",
        "print()\n",
        "print(\"Results: green = not likely to flood, red = likely to flood\")\n",
        "for i in range(len(nolanville_data_y)):\n",
        "  if nolanville_data_y[i] == 1:\n",
        "    print(\"\\033[1;31;49m \"+nol_road_name[i])\n",
        "for i in range(len(nolanville_data_y)):\n",
        "  if nolanville_data_y[i] == 0:\n",
        "    print(\"\\033[1;32;49m \"+nol_road_name[i])"
      ],
      "execution_count": null,
      "outputs": [
        {
          "output_type": "stream",
          "text": [
            "The accuracy (Jaccard index) of the model on the Nolanville data is: 0.75\n",
            "\n",
            "Results: green = not likely to flood, red = likely to flood\n",
            "\u001b[1;31;49m 10th Street\n",
            "\u001b[1;31;49m 9th Street\n",
            "\u001b[1;31;49m Buttercup Cir\n",
            "\u001b[1;31;49m Chimney Hill Dr\n",
            "\u001b[1;31;49m Gehler Cir\n",
            "\u001b[1;31;49m Harvest Drive\n",
            "\u001b[1;31;49m Morningside Drive\n",
            "\u001b[1;31;49m Redbud Road\n",
            "\u001b[1;31;49m Stonecrest Drive\n",
            "\u001b[1;32;49m Farm to Market 439 Spur\n",
            "\u001b[1;32;49m Avenue G\n",
            "\u001b[1;32;49m Avenue J\n",
            "\u001b[1;32;49m Billy The Kid Dr\n",
            "\u001b[1;32;49m Black Walknut Ct\n",
            "\u001b[1;32;49m Dober Street\n",
            "\u001b[1;32;49m E Ash Street\n",
            "\u001b[1;32;49m Hickory Ridge\n",
            "\u001b[1;32;49m Jesse James Drive\n",
            "\u001b[1;32;49m Jordan Loop\n",
            "\u001b[1;32;49m Manhattan Drive\n",
            "\u001b[1;32;49m Nolan Ridge Drive\n",
            "\u001b[1;32;49m Oak Ridge Drive\n",
            "\u001b[1;32;49m Parkridge Drive\n",
            "\u001b[1;32;49m Pointer Street\n",
            "\u001b[1;32;49m Ryan Cir\n",
            "\u001b[1;32;49m Sims Ridge Drive\n",
            "\u001b[1;32;49m Sunrise Avenue\n",
            "\u001b[1;32;49m Timber Ridge Drive\n",
            "\u001b[1;32;49m Topeka Ct\n",
            "\u001b[1;32;49m W Ash Street\n",
            "\u001b[1;32;49m W Dale Avenue\n",
            "\u001b[1;32;49m W Elm Street\n",
            "\u001b[1;32;49m W Live Oak Street\n",
            "\u001b[1;32;49m W Lorie Avenue\n",
            "\u001b[1;32;49m W Street John Avenue\n",
            "\u001b[1;32;49m Wayne Drive\n",
            "\u001b[1;32;49m Weeping Willow Ct\n",
            "\u001b[1;32;49m Wilderness ct\n",
            "\u001b[1;32;49m Cindy Lane\n",
            "\u001b[1;32;49m E Pine Street\n"
          ],
          "name": "stdout"
        }
      ]
    },
    {
      "cell_type": "markdown",
      "metadata": {
        "id": "jVLBYHzGpWG6",
        "colab_type": "text"
      },
      "source": [
        "#Visualizations"
      ]
    },
    {
      "cell_type": "code",
      "metadata": {
        "id": "8HpmtNCMpRZj",
        "colab_type": "code",
        "colab": {
          "base_uri": "https://localhost:8080/",
          "height": 1000
        },
        "outputId": "0966f4e6-0201-4b32-e5a6-4885ffcc3116"
      },
      "source": [
        "import matplotlib.pyplot as plt\n",
        "n, bins, patches = plt.hist(train_sidewalks)\n",
        "plt.title('Sidewalks')\n",
        "plt.show()\n",
        "n, bins, patches = plt.hist(train_width)\n",
        "plt.title('Road width')\n",
        "plt.show()\n",
        "n, bins, patches = plt.hist(train_dist_water)\n",
        "plt.title('Distance to Water')\n",
        "plt.show()\n",
        "n, bins, patches = plt.hist(train_runoff_coeficient)\n",
        "plt.title('Runoff Coeficient of Material')\n",
        "plt.show()"
      ],
      "execution_count": null,
      "outputs": [
        {
          "output_type": "display_data",
          "data": {
            "image/png": "[encoded data removed]",
            "text/plain": [
              "<Figure size 432x288 with 1 Axes>"
            ]
          },
          "metadata": {
            "tags": [],
            "needs_background": "light"
          }
        },
        {
          "output_type": "display_data",
          "data": {
            "image/png": "[encoded data removed]",
            "text/plain": [
              "<Figure size 432x288 with 1 Axes>"
            ]
          },
          "metadata": {
            "tags": [],
            "needs_background": "light"
          }
        },
        {
          "output_type": "display_data",
          "data": {
            "image/png": "[encoded data removed]",
            "text/plain": [
              "<Figure size 432x288 with 1 Axes>"
            ]
          },
          "metadata": {
            "tags": [],
            "needs_background": "light"
          }
        },
        {
          "output_type": "display_data",
          "data": {
            "image/png": "[encoded data removed]",
            "text/plain": [
              "<Figure size 432x288 with 1 Axes>"
            ]
          },
          "metadata": {
            "tags": [],
            "needs_background": "light"
          }
        }
      ]
    },
    {
      "cell_type": "code",
      "metadata": {
        "id": "vEVHU6B3sjyU",
        "colab_type": "code",
        "colab": {}
      },
      "source": [
        "def plot_data(feature1, feature2, target0):\n",
        "  dry1 = []\n",
        "  dry2 = []\n",
        "  flood1 = []\n",
        "  flood2 = []\n",
        "    \n",
        "  for entry in range(1,len(target0)):\n",
        "    if target0[entry] == 0:\n",
        "        dry1.append(feature1[entry])\n",
        "        dry2.append(feature2[entry])\n",
        "    else:\n",
        "        flood1.append(feature1[entry])\n",
        "        flood2.append(feature2[entry])\n",
        "  \n",
        "  cat_heights = np.array(dry1)\n",
        "  cat_weights = np.array(dry2)\n",
        "  dog_heights = np.array(flood1)\n",
        "  dog_weights = np.array(flood2)\n",
        "\n",
        "  plt.scatter(cat_heights, cat_weights, c='b', marker='x', label='Floods')  # put points corresponding to cats, b: blue colored, x: marked with 'x'\n",
        "  plt.scatter(dog_heights, dog_weights, c='r', marker='o', label='Does not flood')  # put points corresponding to dogs, r: red colored, o: marked with 'o'\n",
        "\n",
        "  plt.xlabel(\"Road Widths (ft)\")\n",
        "  plt.ylabel(\"Distance to Water (ft)\")\n",
        "  plt.legend()\n",
        "  plt.show()"
      ],
      "execution_count": null,
      "outputs": []
    },
    {
      "cell_type": "code",
      "metadata": {
        "id": "HQrZjFi8rfsT",
        "colab_type": "code",
        "colab": {
          "base_uri": "https://localhost:8080/",
          "height": 296
        },
        "outputId": "30c52a16-1a0b-44cb-9fee-b9aaea13477f"
      },
      "source": [
        "import matplotlib.pyplot as plt\n",
        "print(\"----- Number of nearest neigbors: 5 -----\")\n",
        "kNN = KNeighborsClassifier(n_neighbors=5)  # Here we use a standard library: \"scikit-learn\" to run k-NN\n",
        "kNN.fit(new_data, new_data_outcome)  \n",
        "plot_data(train_width, train_dist_water, train_data_y)"
      ],
      "execution_count": null,
      "outputs": [
        {
          "output_type": "stream",
          "text": [
            "----- Number of nearest neigbors: 5 -----\n"
          ],
          "name": "stdout"
        },
        {
          "output_type": "display_data",
          "data": {
            "image/png": "[encoded data removed]",
            "text/plain": [
              "<Figure size 432x288 with 1 Axes>"
            ]
          },
          "metadata": {
            "tags": [],
            "needs_background": "light"
          }
        }
      ]
    }
  ]
}